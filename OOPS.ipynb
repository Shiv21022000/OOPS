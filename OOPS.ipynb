{
  "nbformat": 4,
  "nbformat_minor": 0,
  "metadata": {
    "colab": {
      "provenance": []
    },
    "kernelspec": {
      "name": "python3",
      "display_name": "Python 3"
    },
    "language_info": {
      "name": "python"
    }
  },
  "cells": [
    {
      "cell_type": "markdown",
      "source": [
        "#OOPS\n"
      ],
      "metadata": {
        "id": "cWKp5IqCBCts"
      }
    },
    {
      "cell_type": "markdown",
      "source": [
        "#THEORY QUESTIONS"
      ],
      "metadata": {
        "id": "rkxJZhFBBFy7"
      }
    },
    {
      "cell_type": "markdown",
      "source": [
        "#1.What is Object-Oriented Programming (OOP)?"
      ],
      "metadata": {
        "id": "zdmiBC-xFdou"
      }
    },
    {
      "cell_type": "markdown",
      "source": [
        "OOP is a programming paradigm that uses objects and classes to structure software. It allows for concepts like encapsulation, inheritance, and polymorphism."
      ],
      "metadata": {
        "id": "mtCG8AR2BJnm"
      }
    },
    {
      "cell_type": "markdown",
      "source": [
        "#2.What is a class in OOP?"
      ],
      "metadata": {
        "id": "-88DN3qtBNKN"
      }
    },
    {
      "cell_type": "markdown",
      "source": [
        "A class is a blueprint for creating objects. It defines attributes and methods that its objects (instances) will have."
      ],
      "metadata": {
        "id": "Q5vLSm4EBVx-"
      }
    },
    {
      "cell_type": "markdown",
      "source": [
        "#3. What is an object in OOP?"
      ],
      "metadata": {
        "id": "4y6ufin7Ba53"
      }
    },
    {
      "cell_type": "markdown",
      "source": [
        "An object is an instance of a class. It contains data and behaviors defined by the class."
      ],
      "metadata": {
        "id": "sAIq-3mLBeZR"
      }
    },
    {
      "cell_type": "markdown",
      "source": [
        "#4. What is the difference between abstraction and encapsulation"
      ],
      "metadata": {
        "id": "x8L_uStrBg7A"
      }
    },
    {
      "cell_type": "markdown",
      "source": [
        "Abstraction hides complex implementation details and shows only the necessary features.\n",
        "\n",
        "Encapsulation restricts direct access to an object’s data and methods, often using access modifiers."
      ],
      "metadata": {
        "id": "G3nHnFciB04E"
      }
    },
    {
      "cell_type": "markdown",
      "source": [
        "#5. What are dunder methods in Python?"
      ],
      "metadata": {
        "id": "-6Op7mZEB6BQ"
      }
    },
    {
      "cell_type": "markdown",
      "source": [
        "Dunder (double underscore) methods like init, __str, and __add are special methods with double underscores before and after their names. They're used to define behavior for operators and built-in functions."
      ],
      "metadata": {
        "id": "zmX4gkYxCAVk"
      }
    },
    {
      "cell_type": "markdown",
      "source": [
        "#6. Explain the concept of inheritance in OOP."
      ],
      "metadata": {
        "id": "tgaeGyqtCERZ"
      }
    },
    {
      "cell_type": "markdown",
      "source": [
        "Inheritance allows a class (child) to acquire properties and behaviors (methods) from another class (parent)."
      ],
      "metadata": {
        "id": "cvDxtm-oCHl4"
      }
    },
    {
      "cell_type": "markdown",
      "source": [
        "#7. What is polymorphism in OOP?"
      ],
      "metadata": {
        "id": "Inobuk_WCLDH"
      }
    },
    {
      "cell_type": "markdown",
      "source": [
        "Polymorphism allows objects of different classes to be treated as objects of a common superclass. It enables methods to behave differently based on the object.\n",
        "\n"
      ],
      "metadata": {
        "id": "MTuYfxaWCOmR"
      }
    },
    {
      "cell_type": "markdown",
      "source": [
        "#8. How is encapsulation achieved in Python?"
      ],
      "metadata": {
        "id": "8RmJXOXUCPcV"
      }
    },
    {
      "cell_type": "markdown",
      "source": [
        "Encapsulation is achieved using private (var) and protected (_var) access modifiers and by defining class methods to access and modify data."
      ],
      "metadata": {
        "id": "EIBBX3oRCTsX"
      }
    },
    {
      "cell_type": "markdown",
      "source": [
        "#9. What is a constructor in Python?"
      ],
      "metadata": {
        "id": "yFhatvv9CVeo"
      }
    },
    {
      "cell_type": "markdown",
      "source": [
        "A constructor is a special method (init) that is automatically called when an object is instantiated.\n",
        "\n"
      ],
      "metadata": {
        "id": "ibXkm5gKCmDG"
      }
    },
    {
      "cell_type": "markdown",
      "source": [
        "#10. What are class and static methods in Python?"
      ],
      "metadata": {
        "id": "hfNbNYfrCpEH"
      }
    },
    {
      "cell_type": "markdown",
      "source": [
        "Class method uses @classmethod and takes cls as its first argument.\n",
        "\n",
        "Static method uses @staticmethod and doesn't take self or cls as a first parameter.\n",
        "\n"
      ],
      "metadata": {
        "id": "aBHXfaIvCvCQ"
      }
    },
    {
      "cell_type": "markdown",
      "source": [
        "#11.What is method overloading in Python?"
      ],
      "metadata": {
        "id": "eKg5rLRsCx11"
      }
    },
    {
      "cell_type": "markdown",
      "source": [
        "Python does not support method overloading directly. It can be achieved by using default arguments or variable-length arguments."
      ],
      "metadata": {
        "id": "pW4SrlVIC1Y0"
      }
    },
    {
      "cell_type": "markdown",
      "source": [
        "#12. What is method overriding in OOP?"
      ],
      "metadata": {
        "id": "M3hOplSvC4Rb"
      }
    },
    {
      "cell_type": "markdown",
      "source": [
        "Method overriding is when a subclass provides a specific implementation of a method that is already defined in its superclass.\n",
        "\n"
      ],
      "metadata": {
        "id": "oQNd9w2HC-kM"
      }
    },
    {
      "cell_type": "markdown",
      "source": [
        "#13. What is a property decorator in Python?"
      ],
      "metadata": {
        "id": "fsPUSDccDBoI"
      }
    },
    {
      "cell_type": "markdown",
      "source": [
        "The property decorator allows you to define a method that can be accessed like an attribute, enabling getter/setter functionality.\n",
        "\n"
      ],
      "metadata": {
        "id": "NAtFdfUfDGDT"
      }
    },
    {
      "cell_type": "markdown",
      "source": [],
      "metadata": {
        "id": "Mut_jWCVD40_"
      }
    },
    {
      "cell_type": "markdown",
      "source": [
        "#14.Why is polymorphism important in OOP?"
      ],
      "metadata": {
        "id": "dD070XAjESiz"
      }
    },
    {
      "cell_type": "markdown",
      "source": [
        "Polymorphism increases flexibility and scalability by allowing functions to use objects of different types interchangeably."
      ],
      "metadata": {
        "id": "3hbGYPj2EWBu"
      }
    },
    {
      "cell_type": "markdown",
      "source": [
        "#15. What is an abstract class in Python?"
      ],
      "metadata": {
        "id": "UsBIy_KPEYQr"
      }
    },
    {
      "cell_type": "markdown",
      "source": [
        "An abstract class cannot be instantiated and usually contains abstract methods that must be implemented by subclasses. It is defined using the abc module."
      ],
      "metadata": {
        "id": "vamznDU_Ebj4"
      }
    },
    {
      "cell_type": "markdown",
      "source": [
        "#16. What are the advantages of OOP?"
      ],
      "metadata": {
        "id": "9UOI6JGuEec0"
      }
    },
    {
      "cell_type": "markdown",
      "source": [
        "Reusability via inheritance\n",
        "\n",
        "Encapsulation for data protection\n",
        "\n",
        "Easier maintenance\n",
        "\n",
        "Polymorphism for flexibility\n",
        "\n",
        "Modularity"
      ],
      "metadata": {
        "id": "WpB94womEgVX"
      }
    },
    {
      "cell_type": "markdown",
      "source": [
        "#17. What is the difference between a class variable and an instance variable?"
      ],
      "metadata": {
        "id": "ciyxY6aSEiDz"
      }
    },
    {
      "cell_type": "markdown",
      "source": [
        "Class variable is shared among all instances of a class.\n",
        "\n",
        "Instance variable is unique to each instance."
      ],
      "metadata": {
        "id": "LztMrE3MElES"
      }
    },
    {
      "cell_type": "markdown",
      "source": [
        "#18. What is multiple inheritance in Python?"
      ],
      "metadata": {
        "id": "0_nwiBdAEnB8"
      }
    },
    {
      "cell_type": "markdown",
      "source": [
        "Multiple inheritance is when a class inherits from more than one parent class."
      ],
      "metadata": {
        "id": "t0zVdG_mEpme"
      }
    },
    {
      "cell_type": "markdown",
      "source": [
        "#19.Explain the purpose of str and repr methods in Python."
      ],
      "metadata": {
        "id": "ciquKnr1ErSi"
      }
    },
    {
      "cell_type": "markdown",
      "source": [
        "str: Returns a readable string representation of an object (used by print()).\n",
        "\n",
        "repr: Returns an unambiguous representation of the object, useful for debugging"
      ],
      "metadata": {
        "id": "kMrmAynbEuEx"
      }
    },
    {
      "cell_type": "markdown",
      "source": [
        "#20. What is the significance of the super() function in Python?"
      ],
      "metadata": {
        "id": "ZqFLmNmKEwrm"
      }
    },
    {
      "cell_type": "markdown",
      "source": [
        "super() is used to call methods from a parent class, especially useful in method overriding and multiple inheritance."
      ],
      "metadata": {
        "id": "NPO5dDydEzrG"
      }
    },
    {
      "cell_type": "markdown",
      "source": [
        "#21. What is the significance of the del method in Python?"
      ],
      "metadata": {
        "id": "Us0DZofRE1zC"
      }
    },
    {
      "cell_type": "markdown",
      "source": [
        "del is a destructor method called when an object is about to be destroyed to clean up resources."
      ],
      "metadata": {
        "id": "0mTIUfPvE_IU"
      }
    },
    {
      "cell_type": "markdown",
      "source": [
        "#22. What is the difference between @staticmethod and @classmethod in Python?"
      ],
      "metadata": {
        "id": "6oiuD5ypFBbq"
      }
    },
    {
      "cell_type": "markdown",
      "source": [
        "@staticmethod does not access class or instance data.\n",
        "\n",
        "@classmethod accesses class-level data and takes cls as its argument."
      ],
      "metadata": {
        "id": "qpT1H6jXFIRZ"
      }
    },
    {
      "cell_type": "markdown",
      "source": [
        "#23.How does polymorphism work in Python with inheritance?"
      ],
      "metadata": {
        "id": "2vL4tKHhFLRw"
      }
    },
    {
      "cell_type": "markdown",
      "source": [
        "With inheritance, polymorphism allows a child class to override parent methods, and the correct method is called based on the object type."
      ],
      "metadata": {
        "id": "1dhHEuchFOZ6"
      }
    },
    {
      "cell_type": "markdown",
      "source": [
        "#24. What is method chaining in Python OOP?"
      ],
      "metadata": {
        "id": "Ezou9zu-FPjV"
      }
    },
    {
      "cell_type": "markdown",
      "source": [
        "Method chaining allows multiple methods to be called in a single line by returning self from each method."
      ],
      "metadata": {
        "id": "XQoPm5_1FSt5"
      }
    },
    {
      "cell_type": "markdown",
      "source": [
        "#25.What is the purpose of the call method in python?"
      ],
      "metadata": {
        "id": "_uodkRIqFVC8"
      }
    },
    {
      "cell_type": "markdown",
      "source": [
        "The call method in Python lets an object be called like a function. It's useful for creating callable objects, often used in decorators, wrappers, or when you want objects to have function-like behavior."
      ],
      "metadata": {
        "id": "Z3n1UsgwFZke"
      }
    },
    {
      "cell_type": "markdown",
      "source": [
        "#Practical questions"
      ],
      "metadata": {
        "id": "-Mu5bjKqGHPq"
      }
    },
    {
      "cell_type": "code",
      "source": [],
      "metadata": {
        "id": "nCWhM9RfGKst"
      },
      "execution_count": null,
      "outputs": []
    },
    {
      "cell_type": "markdown",
      "source": [
        "## 1. Parent class Animal with child class Dog overriding speak() method:"
      ],
      "metadata": {
        "id": "rB55R0SbGNsg"
      }
    },
    {
      "cell_type": "code",
      "source": [
        "# 1. Parent class Animal with child class Dog overriding speak() method:\n",
        "\n",
        "class Animal:\n",
        "    def speak(self):\n",
        "        print(\"Animal speaks\")\n",
        "\n",
        "class Dog(Animal):\n",
        "    def speak(self):\n",
        "        print(\"Bark\")\n",
        "        super().speak()\n",
        "\n",
        "dog = Dog()\n",
        "dog.speak()"
      ],
      "metadata": {
        "colab": {
          "base_uri": "https://localhost:8080/"
        },
        "id": "9F1eD4O8GN-8",
        "outputId": "46f2ed37-18b9-4d3d-ca4d-f317400b3f15"
      },
      "execution_count": 3,
      "outputs": [
        {
          "output_type": "stream",
          "name": "stdout",
          "text": [
            "Bark\n",
            "Animal speaks\n"
          ]
        }
      ]
    },
    {
      "cell_type": "code",
      "source": [],
      "metadata": {
        "id": "RhXJ6sVNGVld"
      },
      "execution_count": null,
      "outputs": []
    },
    {
      "cell_type": "markdown",
      "source": [
        "## 2. Abstract class Shape with method area() and subclasses Circle, Rectangle:"
      ],
      "metadata": {
        "id": "DztAYCQLGfB8"
      }
    },
    {
      "cell_type": "code",
      "source": [
        "from abc import ABC, abstractmethod\n",
        "import math\n",
        "\n",
        "class Shape(ABC):\n",
        "    @abstractmethod\n",
        "    def area(self):\n",
        "        pass\n",
        "\n",
        "class Circle(Shape):\n",
        "    def __init__(self, radius):\n",
        "        self.radius = radius\n",
        "\n",
        "    def area(self):\n",
        "        return math.pi * self.radius ** 2\n",
        "\n",
        "class Rectangle(Shape):\n",
        "    def __init__(self, length, breadth):\n",
        "        self.length = length\n",
        "        self.breadth = breadth\n",
        "\n",
        "    def area(self):\n",
        "        return self.length * self.breadth"
      ],
      "metadata": {
        "id": "kQhqSK5mGgJ1"
      },
      "execution_count": 4,
      "outputs": []
    },
    {
      "cell_type": "code",
      "source": [],
      "metadata": {
        "id": "ob8YXPbiGhYP"
      },
      "execution_count": null,
      "outputs": []
    },
    {
      "cell_type": "markdown",
      "source": [
        "#3. Multi-level inheritance: Vehicle → Car → ElectricCar"
      ],
      "metadata": {
        "id": "2uwP9OU5Gj-i"
      }
    },
    {
      "cell_type": "code",
      "source": [
        "class Vehicle:\n",
        "    def __init__(self, type):\n",
        "        self.type = type\n",
        "\n",
        "class Car(Vehicle):\n",
        "    def __init__(self, type, model):\n",
        "        super().__init__(type)\n",
        "        self.model = model\n",
        "\n",
        "class ElectricCar(Car):\n",
        "    def __init__(self, type, model, battery):\n",
        "        super().__init__(type, model)\n",
        "        self.battery = battery"
      ],
      "metadata": {
        "id": "EoL-IQw5Gkp1"
      },
      "execution_count": 5,
      "outputs": []
    },
    {
      "cell_type": "code",
      "source": [],
      "metadata": {
        "id": "w8d3YK1EGmMB"
      },
      "execution_count": null,
      "outputs": []
    },
    {
      "cell_type": "markdown",
      "source": [
        "# 4. Demonstrate polymorphism with base class Bird and derived classes:"
      ],
      "metadata": {
        "id": "jSpDDFu3GoLg"
      }
    },
    {
      "cell_type": "code",
      "source": [
        "class Bird:\n",
        "    def fly(self):\n",
        "        print(\"Some birds can fly\")\n",
        "\n",
        "class Sparrow(Bird):\n",
        "    def fly(self):\n",
        "        print(\"Sparrow flies\")\n",
        "\n",
        "class Penguin(Bird):\n",
        "    def fly(self):\n",
        "        print(\"Penguins cannot fly\")\n"
      ],
      "metadata": {
        "id": "NPAKX7wMGo6a"
      },
      "execution_count": 6,
      "outputs": []
    },
    {
      "cell_type": "code",
      "source": [],
      "metadata": {
        "id": "cOEeuvw9Gqf4"
      },
      "execution_count": null,
      "outputs": []
    },
    {
      "cell_type": "markdown",
      "source": [
        "# 5. Class BankAccount with private attributes:"
      ],
      "metadata": {
        "id": "1jDx6MnHGuNB"
      }
    },
    {
      "cell_type": "code",
      "source": [
        "class BankAccount:\n",
        "    def __init__(self, balance):\n",
        "        self.__balance = balance\n",
        "\n",
        "    def deposit(self, amount):\n",
        "        self.__balance += amount\n",
        "\n",
        "    def withdraw(self, amount):\n",
        "        if amount <= self.__balance:\n",
        "            self.__balance -= amount\n",
        "\n",
        "    def check_balance(self):\n",
        "        return self.__balance"
      ],
      "metadata": {
        "id": "oaKVgZ85GufT"
      },
      "execution_count": 7,
      "outputs": []
    },
    {
      "cell_type": "code",
      "source": [],
      "metadata": {
        "id": "Ij49TYevGwSV"
      },
      "execution_count": null,
      "outputs": []
    },
    {
      "cell_type": "markdown",
      "source": [
        "# 6. Method overloading with play() in Instrument and derived classes:"
      ],
      "metadata": {
        "id": "OxepxKSiGwzT"
      }
    },
    {
      "cell_type": "code",
      "source": [
        "class Instrument:\n",
        "    def play(self):\n",
        "        print(\"Playing an instrument\")\n",
        "\n",
        "class Guitar(Instrument):\n",
        "    def play(self):\n",
        "        print(\"Strumming the guitar\")\n",
        "\n",
        "class Piano(Instrument):\n",
        "    def play(self):\n",
        "        print(\"Playing the piano\")"
      ],
      "metadata": {
        "id": "cAj8SlWxGyGS"
      },
      "execution_count": 8,
      "outputs": []
    },
    {
      "cell_type": "code",
      "source": [],
      "metadata": {
        "id": "n88LpwWHGzj_"
      },
      "execution_count": null,
      "outputs": []
    },
    {
      "cell_type": "markdown",
      "source": [
        "# 7. Class with class and static methods for math operations:"
      ],
      "metadata": {
        "id": "eZAqrAHLG0Dm"
      }
    },
    {
      "cell_type": "code",
      "source": [
        "class MathOperations:\n",
        "    @classmethod\n",
        "    def add_numbers(cls, a, b):\n",
        "        return a + b\n",
        "\n",
        "    @staticmethod\n",
        "    def subtract_numbers(a, b):\n",
        "        return a - b"
      ],
      "metadata": {
        "id": "pOg49dTqG1u4"
      },
      "execution_count": 9,
      "outputs": []
    },
    {
      "cell_type": "code",
      "source": [],
      "metadata": {
        "id": "u1DdotosG3He"
      },
      "execution_count": null,
      "outputs": []
    },
    {
      "cell_type": "markdown",
      "source": [
        "# 8. Class Person with class method to count instances:"
      ],
      "metadata": {
        "id": "DNzFmUhcG3l_"
      }
    },
    {
      "cell_type": "code",
      "source": [
        "class Person:\n",
        "    count = 0\n",
        "\n",
        "    def __init__(self, name):\n",
        "        self.name = name\n",
        "        Person.count += 1\n",
        "\n",
        "    @classmethod\n",
        "    def get_count(cls):\n",
        "        return cls.count"
      ],
      "metadata": {
        "id": "WOYWnEQLG4--"
      },
      "execution_count": 10,
      "outputs": []
    },
    {
      "cell_type": "code",
      "source": [],
      "metadata": {
        "id": "Srg78jQuG6M5"
      },
      "execution_count": null,
      "outputs": []
    },
    {
      "cell_type": "markdown",
      "source": [
        "# 9. Fraction class with __str__() method override:"
      ],
      "metadata": {
        "id": "MnTlHgXhG6r4"
      }
    },
    {
      "cell_type": "code",
      "source": [
        "class Fraction:\n",
        "    def __init__(self, numerator, denominator):\n",
        "        self.numerator = numerator\n",
        "        self.denominator = denominator\n",
        "\n",
        "    def __str__(self):\n",
        "        return f\"{self.numerator}/{self.denominator}\""
      ],
      "metadata": {
        "id": "O-TPv8zLG72V"
      },
      "execution_count": 11,
      "outputs": []
    },
    {
      "cell_type": "code",
      "source": [],
      "metadata": {
        "id": "ID5TbfHSG9Mz"
      },
      "execution_count": null,
      "outputs": []
    },
    {
      "cell_type": "markdown",
      "source": [
        "# 10. Operator overloading in Vector class for addition:"
      ],
      "metadata": {
        "id": "qBPebednG9xR"
      }
    },
    {
      "cell_type": "code",
      "source": [
        "class Vector:\n",
        "    def __init__(self, x, y):\n",
        "        self.x = x\n",
        "        self.y = y\n",
        "\n",
        "    def __add__(self, other):\n",
        "        return Vector(self.x + other.x, self.y + other.y)\n",
        "\n",
        "    def __str__(self):\n",
        "        return f\"Vector({self.x}, {self.y})\""
      ],
      "metadata": {
        "id": "pW8DXWJfG_VB"
      },
      "execution_count": 12,
      "outputs": []
    },
    {
      "cell_type": "code",
      "source": [],
      "metadata": {
        "id": "mvzCzQtxHAkq"
      },
      "execution_count": null,
      "outputs": []
    },
    {
      "cell_type": "markdown",
      "source": [
        "# 11. Class Person with name and age, method greet():"
      ],
      "metadata": {
        "id": "Ks7lCm1DHCKM"
      }
    },
    {
      "cell_type": "code",
      "source": [
        "class Person:\n",
        "    def __init__(self, name, age):\n",
        "        self.name = name\n",
        "        self.age = age\n",
        "\n",
        "    def greet(self):\n",
        "        print(f\"Hello, my name is {self.name} and I am {self.age} years old.\")\n",
        ""
      ],
      "metadata": {
        "id": "dBJQzI6GHCUJ"
      },
      "execution_count": 14,
      "outputs": []
    },
    {
      "cell_type": "code",
      "source": [],
      "metadata": {
        "id": "i-Z3FbXYHEzj"
      },
      "execution_count": null,
      "outputs": []
    },
    {
      "cell_type": "markdown",
      "source": [
        "# 12. Class Student with method to compute average grade:"
      ],
      "metadata": {
        "id": "ID55V8q3HVVE"
      }
    },
    {
      "cell_type": "code",
      "source": [
        "class Student:\n",
        "    def __init__(self, name, grades):\n",
        "        self.name = name\n",
        "        self.grades = grades\n",
        "\n",
        "    def average_grade(self):\n",
        "        return sum(self.grades) / len(self.grades)"
      ],
      "metadata": {
        "id": "frbzFzBWHX9j"
      },
      "execution_count": 15,
      "outputs": []
    },
    {
      "cell_type": "code",
      "source": [],
      "metadata": {
        "id": "z44dcj7FHZTv"
      },
      "execution_count": null,
      "outputs": []
    },
    {
      "cell_type": "markdown",
      "source": [
        "# 13. Class Rectangle with methods to set dimensions and calculate area:"
      ],
      "metadata": {
        "id": "gcTnvE-xHZ0p"
      }
    },
    {
      "cell_type": "code",
      "source": [
        "class Rectangle:\n",
        "    def set_dimensions(self, length, width):\n",
        "        self.length = length\n",
        "        self.width = width\n",
        "\n",
        "    def area(self):\n",
        "        return self.length * self.width"
      ],
      "metadata": {
        "id": "ME3IwMXkHa9-"
      },
      "execution_count": 16,
      "outputs": []
    },
    {
      "cell_type": "markdown",
      "source": [
        "# 14. Class Employee with method to calculate salary, subclass Manager with bonus:"
      ],
      "metadata": {
        "id": "KxDWk24VHfQw"
      }
    },
    {
      "cell_type": "code",
      "source": [
        "class Employee:\n",
        "    def __init__(self, hours, rate):\n",
        "        self.hours = hours\n",
        "        self.rate = rate\n",
        "\n",
        "    def calculate_salary(self):\n",
        "        return self.hours * self.rate\n",
        "\n",
        "class Manager(Employee):\n",
        "    def __init__(self, hours, rate, bonus):\n",
        "        super().__init__(hours, rate)\n",
        "        self.bonus = bonus\n",
        "\n",
        "    def calculate_salary(self):\n",
        "        return super().calculate_salary() + self.bonus"
      ],
      "metadata": {
        "id": "kY-l7dADHfdu"
      },
      "execution_count": 18,
      "outputs": []
    },
    {
      "cell_type": "code",
      "source": [],
      "metadata": {
        "id": "46j0WtDbHhKF"
      },
      "execution_count": null,
      "outputs": []
    },
    {
      "cell_type": "markdown",
      "source": [
        "# 15. Class Product to compute total price:"
      ],
      "metadata": {
        "id": "sEfJWxGTHhyN"
      }
    },
    {
      "cell_type": "code",
      "source": [
        "class Product:\n",
        "    def __init__(self, name, price, quantity):\n",
        "        self.name = name\n",
        "        self.price = price\n",
        "        self.quantity = quantity\n",
        "\n",
        "    def total_price(self):\n",
        "        return self.price * self.quantity"
      ],
      "metadata": {
        "id": "nkUT0hBqHjMn"
      },
      "execution_count": 19,
      "outputs": []
    },
    {
      "cell_type": "code",
      "source": [],
      "metadata": {
        "id": "tzWX_hdgHkkW"
      },
      "execution_count": null,
      "outputs": []
    },
    {
      "cell_type": "markdown",
      "source": [
        "# 16. Abstract class Animal with derived classes Cow and Sheep:"
      ],
      "metadata": {
        "id": "Mn8NocoFHlMq"
      }
    },
    {
      "cell_type": "code",
      "source": [
        "from abc import ABC, abstractmethod\n",
        "\n",
        "class Animal(ABC):\n",
        "    @abstractmethod\n",
        "    def sound(self):\n",
        "        pass\n",
        "\n",
        "class Cow(Animal):\n",
        "    def sound(self):\n",
        "        print(\"Moo\")\n",
        "\n",
        "class Sheep(Animal):\n",
        "    def sound(self):\n",
        "        print(\"Baa\")"
      ],
      "metadata": {
        "id": "tw4XUmscHmg2"
      },
      "execution_count": 20,
      "outputs": []
    },
    {
      "cell_type": "code",
      "source": [],
      "metadata": {
        "id": "m51NNs92Hn4M"
      },
      "execution_count": null,
      "outputs": []
    },
    {
      "cell_type": "markdown",
      "source": [
        "# 17. Class Book with method to return book info:"
      ],
      "metadata": {
        "id": "5csWy_DwHoX1"
      }
    },
    {
      "cell_type": "code",
      "source": [
        "class Book:\n",
        "    def __init__(self, title, author, year_published):\n",
        "        self.title = title\n",
        "        self.author = author\n",
        "        self.year_published = year_published\n",
        "\n",
        "    def get_book_info(self):\n",
        "        return f\"{self.title} by {self.author}, published in {self.year_published}\""
      ],
      "metadata": {
        "id": "Lh-9eoGgHqo9"
      },
      "execution_count": 21,
      "outputs": []
    },
    {
      "cell_type": "code",
      "source": [],
      "metadata": {
        "id": "zvnNXqNVHsNX"
      },
      "execution_count": null,
      "outputs": []
    },
    {
      "cell_type": "markdown",
      "source": [
        "# 18. Class House and derived class Mansion with extra attribute:"
      ],
      "metadata": {
        "id": "gCv35YYOHswV"
      }
    },
    {
      "cell_type": "code",
      "source": [
        "class House:\n",
        "    def __init__(self, address, price):\n",
        "        self.address = address\n",
        "        self.price = price\n",
        "\n",
        "class Mansion(House):\n",
        "    def __init__(self, address, price, number_of_rooms):\n",
        "        super().__init__(address, price)\n",
        "        self.number_of_rooms = number_of_rooms\n",
        "    def _init_(self, name, grades):\n",
        "        self.name = name\n",
        "        self.grades = grades\n",
        "\n",
        "    def average_grade(self):\n",
        "        return sum(self.grades) / len(self.grades)"
      ],
      "metadata": {
        "id": "HjMOob3rHuRb"
      },
      "execution_count": 22,
      "outputs": []
    },
    {
      "cell_type": "code",
      "source": [],
      "metadata": {
        "id": "eq485alZHvza"
      },
      "execution_count": null,
      "outputs": []
    }
  ]
}